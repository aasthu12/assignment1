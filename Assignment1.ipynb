{
 "cells": [
  {
   "cell_type": "code",
   "execution_count": null,
   "id": "a65e37bf-f0b6-4aa2-9843-b33bc56127f3",
   "metadata": {},
   "outputs": [],
   "source": [
    "Ans1 -> \n",
    "expressions are * , - , / , + \n",
    "values are 'hello' , -87.8 , 6"
   ]
  },
  {
   "cell_type": "code",
   "execution_count": null,
   "id": "e16edbbb-91c6-4873-9752-9b5de29ddb40",
   "metadata": {},
   "outputs": [],
   "source": [
    "Ans2 ->\n",
    "Variables are symbols or combination of symbols that are used to store\n",
    "a value. They act like an address where we can find our stored value.\n",
    "\n",
    "Strings are a type of value which can be stored inside a variable. \n",
    "Strings can be alphabets or an alphanumeric combination etc.\n"
   ]
  },
  {
   "cell_type": "code",
   "execution_count": null,
   "id": "f4c8fda2-cadd-46ed-9ba6-d4a117738353",
   "metadata": {},
   "outputs": [],
   "source": [
    "Ans3 ->\n",
    "examples of three different datatypes are :-\n",
    "1. int - int is a datatype which can store integer values\n",
    "like 2 , 10, 199 , 0 , -234 etc.\n",
    "2. float - float is a datatype which can store numeric values which\n",
    "contain decimal values . For example - 23.49 , 0.5 etc.\n",
    "3. list - List is a datatype which can store a set of values and \n",
    "various operations can be performed of this particular set of values.\n",
    "For example- [1,45,-32,\"hello\",76.98,True]"
   ]
  },
  {
   "cell_type": "code",
   "execution_count": null,
   "id": "f8dfd48e-3b52-4250-ae07-cb73eba94917",
   "metadata": {},
   "outputs": [],
   "source": [
    "Ans4 ->\n",
    "Expressions are made up of various mathematical operators like + ,- , *,/ etc.\n",
    "Expressions can be used to perform mathematical operations on values.\n",
    "example : 2+2 , a+b etc"
   ]
  },
  {
   "cell_type": "code",
   "execution_count": null,
   "id": "498483ec-5e24-40c2-be2c-1ed8cdc71460",
   "metadata": {},
   "outputs": [],
   "source": [
    "Ans5 ->\n",
    "Expressions are a combination of mathematical operators used to perform\n",
    "various operations in python.\n",
    "A statement is a declaration or instruction made in python which can be\n",
    "carried out by the interpreter."
   ]
  },
  {
   "cell_type": "code",
   "execution_count": null,
   "id": "b6953c45-9a44-4d21-aaea-691c63ca03e7",
   "metadata": {},
   "outputs": [],
   "source": [
    "Ans6 ->\n",
    "After running the following code, the value of bacon will remain 22.\n",
    "This is because we did not reassign any value to bacon. \n",
    "If the code would have said bacon = bacon+1 , then bacon value would\n",
    "have become 23."
   ]
  },
  {
   "cell_type": "code",
   "execution_count": 1,
   "id": "bc69d7fc-adf9-4895-9153-75fcdc81bd4a",
   "metadata": {},
   "outputs": [
    {
     "name": "stdout",
     "output_type": "stream",
     "text": [
      "22\n"
     ]
    }
   ],
   "source": [
    "bacon=22\n",
    "bacon+1\n",
    "print (bacon)"
   ]
  },
  {
   "cell_type": "code",
   "execution_count": 2,
   "id": "c3cf36e5-cf1c-4fd6-ae27-99d403d48bce",
   "metadata": {},
   "outputs": [
    {
     "name": "stdout",
     "output_type": "stream",
     "text": [
      "23\n"
     ]
    }
   ],
   "source": [
    "bacon=bacon+1\n",
    "print (bacon)"
   ]
  },
  {
   "cell_type": "code",
   "execution_count": null,
   "id": "62c5a721-3160-4159-b105-eb2f3cf53e5b",
   "metadata": {},
   "outputs": [],
   "source": [
    "Ans7 -> the output of both the statements would be the same."
   ]
  },
  {
   "cell_type": "code",
   "execution_count": 3,
   "id": "53ce3e31-a365-4ce4-a65e-0e983c56aa60",
   "metadata": {},
   "outputs": [
    {
     "data": {
      "text/plain": [
       "'spamspamspam'"
      ]
     },
     "execution_count": 3,
     "metadata": {},
     "output_type": "execute_result"
    }
   ],
   "source": [
    "'spam'+'spamspam'"
   ]
  },
  {
   "cell_type": "code",
   "execution_count": 4,
   "id": "5f05c77f-af18-453a-a8af-0650a6d30a92",
   "metadata": {},
   "outputs": [
    {
     "data": {
      "text/plain": [
       "'spamspamspam'"
      ]
     },
     "execution_count": 4,
     "metadata": {},
     "output_type": "execute_result"
    }
   ],
   "source": [
    "'spam'*3"
   ]
  },
  {
   "cell_type": "code",
   "execution_count": null,
   "id": "a42ceb20-ff8d-4506-ab3e-b6f64d46124e",
   "metadata": {},
   "outputs": [],
   "source": [
    "Ans8 -> Eggs is a valid variable name but 100 is not because According\n",
    "to the rules applied for naming variables, variable names cannot \n",
    "contain only integer values whereas a  name like eggs100 would be a \n",
    "valid integer name."
   ]
  },
  {
   "cell_type": "code",
   "execution_count": null,
   "id": "f6bf6d1d-d4e4-4934-bdf3-cb516cc49d30",
   "metadata": {},
   "outputs": [],
   "source": [
    "Ans9 ->\n",
    "the functions which can be used to get the integer, floating-point number, or string\n",
    "version of a value are int(),float() and str() respectively."
   ]
  },
  {
   "cell_type": "code",
   "execution_count": null,
   "id": "26fc7582-d1cb-464b-a572-8990788a7e0d",
   "metadata": {},
   "outputs": [],
   "source": [
    "Ans10 ->\n",
    "The given expression will give an error because mathematical operations\n",
    "cannot be performed on integer and string datatypes together. \n",
    "For the error to be removed, the values should be changed to either\n",
    "string datatype or integer datatype.\n",
    "In this particular statement, if 99 is converted to a string datatype, \n",
    "then the error will be removed."
   ]
  },
  {
   "cell_type": "code",
   "execution_count": 7,
   "id": "24f44765-6cc7-4a67-9aa2-2d06e0189eb6",
   "metadata": {},
   "outputs": [
    {
     "name": "stdout",
     "output_type": "stream",
     "text": [
      "I have eaten 99 burritos\n"
     ]
    }
   ],
   "source": [
    "print('I have eaten '+'99'+' burritos')"
   ]
  },
  {
   "cell_type": "code",
   "execution_count": null,
   "id": "704f72ab-7360-4186-9001-320d2821ae3c",
   "metadata": {},
   "outputs": [],
   "source": []
  }
 ],
 "metadata": {
  "kernelspec": {
   "display_name": "Python 3 (ipykernel)",
   "language": "python",
   "name": "python3"
  },
  "language_info": {
   "codemirror_mode": {
    "name": "ipython",
    "version": 3
   },
   "file_extension": ".py",
   "mimetype": "text/x-python",
   "name": "python",
   "nbconvert_exporter": "python",
   "pygments_lexer": "ipython3",
   "version": "3.10.6"
  }
 },
 "nbformat": 4,
 "nbformat_minor": 5
}
